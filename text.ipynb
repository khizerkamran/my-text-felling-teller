{
 "cells": [
  {
   "cell_type": "code",
   "execution_count": 2,
   "id": "7aefc4e0",
   "metadata": {},
   "outputs": [],
   "source": [
    "from textblob import TextBlob"
   ]
  },
  {
   "cell_type": "code",
   "execution_count": 9,
   "id": "c72a1c0a",
   "metadata": {},
   "outputs": [
    {
     "name": "stdout",
     "output_type": "stream",
     "text": [
      "type your sentance: thanks\n",
      "Positive sentance\n"
     ]
    }
   ],
   "source": [
    "y=input('type your sentance: ')\n",
    "a=TextBlob(y)\n",
    "x=a.sentiment.polarity\n",
    "if(x<0):\n",
    "    print('Negitive sentance')\n",
    "elif x==0 :\n",
    "    print('Netural sentance')\n",
    "elif x>0 and x<=1 :\n",
    "    print('Positive sentance')\n",
    "    \n",
    "    \n",
    "\n",
    "    "
   ]
  },
  {
   "cell_type": "code",
   "execution_count": null,
   "id": "0e82b81a",
   "metadata": {},
   "outputs": [],
   "source": []
  }
 ],
 "metadata": {
  "kernelspec": {
   "display_name": "Python 3",
   "language": "python",
   "name": "python3"
  },
  "language_info": {
   "codemirror_mode": {
    "name": "ipython",
    "version": 3
   },
   "file_extension": ".py",
   "mimetype": "text/x-python",
   "name": "python",
   "nbconvert_exporter": "python",
   "pygments_lexer": "ipython3",
   "version": "3.8.7"
  }
 },
 "nbformat": 4,
 "nbformat_minor": 5
}
